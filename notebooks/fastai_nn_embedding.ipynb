{
 "cells": [
  {
   "cell_type": "code",
   "execution_count": 1,
   "metadata": {},
   "outputs": [],
   "source": [
    "import pandas as pd\n",
    "import numpy as np\n",
    "import re\n",
    "from sklearn.decomposition import PCA\n",
    "\n",
    "# https://github.com/fastai/fastai\n",
    "from fastai.structured import *\n",
    "from fastai.column_data import *"
   ]
  },
  {
   "cell_type": "code",
   "execution_count": null,
   "metadata": {},
   "outputs": [],
   "source": []
  },
  {
   "cell_type": "markdown",
   "metadata": {},
   "source": [
    "# Data Prep"
   ]
  },
  {
   "cell_type": "code",
   "execution_count": 91,
   "metadata": {},
   "outputs": [],
   "source": [
    "train = pd.read_csv(\"../input/train.csv\")\n",
    "test = pd.read_csv(\"../input/test.csv\")"
   ]
  },
  {
   "cell_type": "markdown",
   "metadata": {},
   "source": [
    "The following is taken from [this](https://www.kaggle.com/janpreets/using-the-atomic-coordinates-for-prediction] Kaggle kernel.) kaggle kernel."
   ]
  },
  {
   "cell_type": "code",
   "execution_count": 92,
   "metadata": {},
   "outputs": [],
   "source": [
    "def get_xyz_data(filename):\n",
    "    pos_data = []\n",
    "    lat_data = []\n",
    "    with open(filename) as f:\n",
    "        for line in f.readlines():\n",
    "            x = line.split()\n",
    "            if x[0] == 'atom':\n",
    "                pos_data.append([np.array(x[1:4], dtype=np.float),x[4]])\n",
    "            elif x[0] == 'lattice_vector':\n",
    "                lat_data.append(np.array(x[1:4], dtype=np.float))\n",
    "    return pos_data, np.array(lat_data)\n",
    "    \n",
    "\n",
    "\n",
    "ga_cols = []\n",
    "al_cols = []\n",
    "o_cols = []\n",
    "in_cols = []\n",
    "\n",
    "import warnings\n",
    "warnings.filterwarnings(\"ignore\")\n",
    "\n",
    "for i in range(6):\n",
    "    ga_cols.append(\"Ga_\"+str(i))\n",
    "\n",
    "for i in range(6):\n",
    "    al_cols.append(\"Al_\"+str(i))\n",
    "\n",
    "for i in range(6):\n",
    "    o_cols.append(\"O_\"+str(i))\n",
    "\n",
    "for i in range(6):\n",
    "    in_cols.append(\"In_\"+str(i))\n",
    "\n",
    "\n",
    "\n",
    "ga_df= pd.DataFrame(columns=ga_cols)\n",
    "al_df = pd.DataFrame(columns=al_cols)\n",
    "o_df = pd.DataFrame(columns= o_cols)\n",
    "in_df = pd.DataFrame(columns=in_cols)\n",
    "\n",
    "for i in train.id.values:\n",
    "    fn = \"../input/train/{}/geometry.xyz\".format(i)\n",
    "    train_xyz, train_lat = get_xyz_data(fn)\n",
    "    \n",
    "    ga_list = []\n",
    "    al_list = []\n",
    "    o_list = []\n",
    "    in_list = []\n",
    "    \n",
    "    for li in train_xyz:\n",
    "        try:\n",
    "            if li[1] == \"Ga\":\n",
    "                ga_list.append(li[0])\n",
    "        except:\n",
    "            pass\n",
    "        try:\n",
    "            if li[1] == \"Al\":\n",
    "                al_list.append(li[0])\n",
    "        except:\n",
    "            pass\n",
    "        try:\n",
    "            if li[1] == \"In\":\n",
    "                in_list.append(li[0])\n",
    "        except:\n",
    "            pass\n",
    "        try:\n",
    "            if li[1] == \"O\":\n",
    "                o_list.append(li[0])\n",
    "        except:\n",
    "            pass\n",
    "    \n",
    "#     ga_list = [item for sublist in ga_list for item in sublist]\n",
    "#     al_list = [item for sublist in al_list for item in sublist]\n",
    "#     o_list = [item for sublist in o_list for item in sublist]\n",
    "   \n",
    "    \n",
    "    try:\n",
    "        model = PCA(n_components=2)\n",
    "        ga_list = np.array(ga_list)\n",
    "        temp_ga = model.fit_transform(ga_list.transpose())\n",
    "        temp_ga = [item for sublist in temp_ga for item in sublist]\n",
    "       \n",
    "    except:\n",
    "        temp_ga = [0,0,0,0,0,0]\n",
    "#         print i\n",
    "    try:\n",
    "        model = PCA(n_components=2)\n",
    "        al_list = np.array(al_list)\n",
    "        temp_al = model.fit_transform(al_list.transpose())\n",
    "        temp_al = [item for sublist in temp_al for item in sublist]\n",
    "#         print i\n",
    "    except:\n",
    "        temp_al = [0,0,0,0,0,0]\n",
    "#         print i\n",
    "    try:\n",
    "        model = PCA(n_components=2)\n",
    "        o_list = np.array(o_list)\n",
    "        temp_o = model.fit_transform(o_list.transpose())\n",
    "        temp_o = [item for sublist in temp_o for item in sublist]\n",
    "#         print i\n",
    "    except:\n",
    "        temp_o = [0,0,0,0,0,0]\n",
    "#         print i\n",
    "    \n",
    "    try:\n",
    "        model = PCA(n_components=2)\n",
    "        in_list = np.array(in_list)\n",
    "        temp_in = model.fit_transform(in_list.transpose())\n",
    "        temp_in = [item for sublist in temp_in for item in sublist]\n",
    "#         print i\n",
    "    except:\n",
    "        temp_in = [0,0,0,0,0,0]\n",
    "#         print i\n",
    "\n",
    "    temp_ga = pd.DataFrame(temp_ga).transpose()\n",
    "    temp_ga.columns = ga_cols\n",
    "    temp_ga.index = np.array([i])\n",
    "\n",
    "    temp_al = pd.DataFrame(temp_al).transpose()\n",
    "    temp_al.columns = al_cols\n",
    "    temp_al.index = np.array([i])\n",
    "\n",
    "    temp_o = pd.DataFrame(temp_o).transpose()\n",
    "    temp_o.columns = o_cols\n",
    "    temp_o.index = np.array([i])\n",
    "    \n",
    "    temp_in = pd.DataFrame(temp_in).transpose()\n",
    "    temp_in.columns = in_cols\n",
    "    temp_in.index = np.array([i])\n",
    "    \n",
    "    \n",
    "\n",
    "    ga_df = pd.concat([ga_df,temp_ga])\n",
    "    al_df = pd.concat([al_df,temp_al])\n",
    "    o_df = pd.concat([o_df,temp_o])    \n",
    "    in_df = pd.concat([in_df,temp_in])\n",
    "    \n",
    "ga_df[\"id\"] = ga_df.index\n",
    "al_df[\"id\"] = al_df.index\n",
    "o_df[\"id\"] = o_df.index\n",
    "in_df[\"id\"] = in_df.index\n",
    "\n",
    "train = pd.merge(train,ga_df,on = [\"id\"],how = \"left\")\n",
    "train = pd.merge(train,al_df,on = [\"id\"],how = \"left\")\n",
    "train = pd.merge(train,o_df,on = [\"id\"],how = \"left\")\n",
    "train = pd.merge(train,in_df,on = [\"id\"],how = \"left\")\n",
    "    \n",
    "ga_df= pd.DataFrame(columns=ga_cols)\n",
    "al_df = pd.DataFrame(columns=al_cols)\n",
    "o_df = pd.DataFrame(columns= o_cols)\n",
    "in_df = pd.DataFrame(columns=in_cols)    \n",
    "\n",
    "for i in test.id.values:\n",
    "    fn = \"../input/test/{}/geometry.xyz\".format(i)\n",
    "    train_xyz, train_lat = get_xyz_data(fn)\n",
    "    \n",
    "    ga_list = []\n",
    "    al_list = []\n",
    "    o_list = []\n",
    "    in_list = []\n",
    "    \n",
    "    for li in train_xyz:\n",
    "        try:\n",
    "            if li[1] == \"Ga\":\n",
    "                ga_list.append(li[0])\n",
    "        except:\n",
    "            pass\n",
    "        try:\n",
    "            if li[1] == \"Al\":\n",
    "                al_list.append(li[0])\n",
    "        except:\n",
    "            pass\n",
    "        try:\n",
    "            if li[1] == \"In\":\n",
    "                in_list.append(li[0])\n",
    "        except:\n",
    "            pass\n",
    "        try:\n",
    "            if li[1] == \"O\":\n",
    "                o_list.append(li[0])\n",
    "        except:\n",
    "            pass\n",
    "    \n",
    "#     ga_list = [item for sublist in ga_list for item in sublist]\n",
    "#     al_list = [item for sublist in al_list for item in sublist]\n",
    "#     o_list = [item for sublist in o_list for item in sublist]\n",
    "   \n",
    "    \n",
    "    try:\n",
    "        model = PCA(n_components=2)\n",
    "        ga_list = np.array(ga_list)\n",
    "        temp_ga = model.fit_transform(ga_list.transpose())\n",
    "        temp_ga = [item for sublist in temp_ga for item in sublist]\n",
    "       \n",
    "    except:\n",
    "        temp_ga = [0,0,0,0,0,0]\n",
    "#         print i\n",
    "    try:\n",
    "        model = PCA(n_components=2)\n",
    "        al_list = np.array(al_list)\n",
    "        temp_al = model.fit_transform(al_list.transpose())\n",
    "        temp_al = [item for sublist in temp_al for item in sublist]\n",
    "#         print i\n",
    "    except:\n",
    "        temp_al = [0,0,0,0,0,0]\n",
    "#         print i\n",
    "    try:\n",
    "        model = PCA(n_components=2)\n",
    "        o_list = np.array(o_list)\n",
    "        temp_o = model.fit_transform(o_list.transpose())\n",
    "        temp_o = [item for sublist in temp_o for item in sublist]\n",
    "#         print i\n",
    "    except:\n",
    "        temp_o = [0,0,0,0,0,0]\n",
    "#         print i\n",
    "    \n",
    "    try:\n",
    "        model = PCA(n_components=2)\n",
    "        in_list = np.array(in_list)\n",
    "        temp_in = model.fit_transform(in_list.transpose())\n",
    "        temp_in = [item for sublist in temp_in for item in sublist]\n",
    "#         print i\n",
    "    except:\n",
    "        temp_in = [0,0,0,0,0,0]\n",
    "#         print i\n",
    "\n",
    "    temp_ga = pd.DataFrame(temp_ga).transpose()\n",
    "    temp_ga.columns = ga_cols\n",
    "    temp_ga.index = np.array([i])\n",
    "\n",
    "    temp_al = pd.DataFrame(temp_al).transpose()\n",
    "    temp_al.columns = al_cols\n",
    "    temp_al.index = np.array([i])\n",
    "\n",
    "    temp_o = pd.DataFrame(temp_o).transpose()\n",
    "    temp_o.columns = o_cols\n",
    "    temp_o.index = np.array([i])\n",
    "    \n",
    "    temp_in = pd.DataFrame(temp_in).transpose()\n",
    "    temp_in.columns = in_cols\n",
    "    temp_in.index = np.array([i])\n",
    "    \n",
    "    \n",
    "\n",
    "    ga_df = pd.concat([ga_df,temp_ga])\n",
    "    al_df = pd.concat([al_df,temp_al])\n",
    "    o_df = pd.concat([o_df,temp_o])    \n",
    "    in_df = pd.concat([in_df,temp_in])\n",
    "    \n",
    "\n",
    "ga_df[\"id\"] = ga_df.index\n",
    "al_df[\"id\"] = al_df.index\n",
    "o_df[\"id\"] = o_df.index\n",
    "in_df[\"id\"] = in_df.index\n",
    "\n",
    "test = pd.merge(test,ga_df,on = [\"id\"],how = \"left\")\n",
    "test = pd.merge(test,al_df,on = [\"id\"],how = \"left\")\n",
    "test = pd.merge(test,o_df,on = [\"id\"],how = \"left\")\n",
    "test = pd.merge(test,in_df,on = [\"id\"],how = \"left\")\n",
    "\n",
    "\n",
    "\n",
    "X_train = train#train.head(2200)\n",
    "\n",
    "# X_val = train.tail(200)\n",
    "\n",
    "y_train_1 = X_train['formation_energy_ev_natom']\n",
    "y_train_2 = X_train[\"bandgap_energy_ev\"]\n",
    "\n",
    "# y_val_1 = X_val['formation_energy_ev_natom']\n",
    "# y_val_2 = X_val[\"bandgap_energy_ev\"]\n",
    "\n",
    "\n",
    "X_train = X_train.drop([\"formation_energy_ev_natom\",\"bandgap_energy_ev\", 'id'],axis =1)\n",
    "# X_val = X_val.drop([\"formation_energy_ev_natom\",\"bandgap_energy_ev\", 'id'],axis =1)\n",
    "\n",
    "\n",
    "X_train.In_0 = X_train.In_0.astype(np.float32)\n",
    "X_train.In_1 = X_train.In_1.astype(np.float32)\n",
    "X_train.In_2 = X_train.In_2.astype(np.float32)\n",
    "X_train.In_3 = X_train.In_3.astype(np.float32)\n",
    "X_train.In_4 = X_train.In_4.astype(np.float32)\n",
    "X_train.In_5 = X_train.In_5.astype(np.float32)\n",
    "\n",
    "# X_val.In_0 = X_val.In_0.astype(np.float32)\n",
    "# X_val.In_1 = X_val.In_1.astype(np.float32)\n",
    "# X_val.In_2 = X_val.In_2.astype(np.float32)\n",
    "# X_val.In_3 = X_val.In_3.astype(np.float32)\n",
    "# X_val.In_4 = X_val.In_4.astype(np.float32)\n",
    "# X_val.In_5 = X_val.In_5.astype(np.float32)\n",
    "\n",
    "\n",
    "test.In_0 = test.In_0.astype(np.float32)\n",
    "test.In_1 = test.In_1.astype(np.float32)\n",
    "test.In_2 = test.In_2.astype(np.float32)\n",
    "test.In_3 = test.In_3.astype(np.float32)\n",
    "test.In_4 = test.In_4.astype(np.float32)\n",
    "test.In_5 = test.In_5.astype(np.float32)\n",
    "\n",
    "test_id = test['id'].copy()\n",
    "test = test.drop('id', axis=1)"
   ]
  },
  {
   "cell_type": "code",
   "execution_count": null,
   "metadata": {},
   "outputs": [],
   "source": []
  },
  {
   "cell_type": "code",
   "execution_count": 93,
   "metadata": {
    "scrolled": true
   },
   "outputs": [
    {
     "data": {
      "text/html": [
       "<div>\n",
       "<style scoped>\n",
       "    .dataframe tbody tr th:only-of-type {\n",
       "        vertical-align: middle;\n",
       "    }\n",
       "\n",
       "    .dataframe tbody tr th {\n",
       "        vertical-align: top;\n",
       "    }\n",
       "\n",
       "    .dataframe thead th {\n",
       "        text-align: right;\n",
       "    }\n",
       "</style>\n",
       "<table border=\"1\" class=\"dataframe\">\n",
       "  <thead>\n",
       "    <tr style=\"text-align: right;\">\n",
       "      <th></th>\n",
       "      <th>spacegroup</th>\n",
       "      <th>number_of_total_atoms</th>\n",
       "      <th>percent_atom_al</th>\n",
       "      <th>percent_atom_ga</th>\n",
       "      <th>percent_atom_in</th>\n",
       "      <th>lattice_vector_1_ang</th>\n",
       "      <th>lattice_vector_2_ang</th>\n",
       "      <th>lattice_vector_3_ang</th>\n",
       "      <th>lattice_angle_alpha_degree</th>\n",
       "      <th>lattice_angle_beta_degree</th>\n",
       "      <th>...</th>\n",
       "      <th>O_2</th>\n",
       "      <th>O_3</th>\n",
       "      <th>O_4</th>\n",
       "      <th>O_5</th>\n",
       "      <th>In_0</th>\n",
       "      <th>In_1</th>\n",
       "      <th>In_2</th>\n",
       "      <th>In_3</th>\n",
       "      <th>In_4</th>\n",
       "      <th>In_5</th>\n",
       "    </tr>\n",
       "  </thead>\n",
       "  <tbody>\n",
       "    <tr>\n",
       "      <th>0</th>\n",
       "      <td>33</td>\n",
       "      <td>80.0</td>\n",
       "      <td>0.6250</td>\n",
       "      <td>0.3750</td>\n",
       "      <td>0.000</td>\n",
       "      <td>9.9523</td>\n",
       "      <td>8.5513</td>\n",
       "      <td>9.1775</td>\n",
       "      <td>90.0026</td>\n",
       "      <td>90.0023</td>\n",
       "      <td>...</td>\n",
       "      <td>16.817657</td>\n",
       "      <td>-0.743367</td>\n",
       "      <td>-7.667648</td>\n",
       "      <td>13.022131</td>\n",
       "      <td>0.000000</td>\n",
       "      <td>0.000000</td>\n",
       "      <td>0.000000</td>\n",
       "      <td>0.000000</td>\n",
       "      <td>0.000000</td>\n",
       "      <td>0.000000</td>\n",
       "    </tr>\n",
       "    <tr>\n",
       "      <th>1</th>\n",
       "      <td>194</td>\n",
       "      <td>80.0</td>\n",
       "      <td>0.6250</td>\n",
       "      <td>0.3750</td>\n",
       "      <td>0.000</td>\n",
       "      <td>6.1840</td>\n",
       "      <td>6.1838</td>\n",
       "      <td>23.6287</td>\n",
       "      <td>90.0186</td>\n",
       "      <td>89.9980</td>\n",
       "      <td>...</td>\n",
       "      <td>-26.483708</td>\n",
       "      <td>9.694593</td>\n",
       "      <td>55.814256</td>\n",
       "      <td>-0.324141</td>\n",
       "      <td>0.000000</td>\n",
       "      <td>0.000000</td>\n",
       "      <td>0.000000</td>\n",
       "      <td>0.000000</td>\n",
       "      <td>0.000000</td>\n",
       "      <td>0.000000</td>\n",
       "    </tr>\n",
       "    <tr>\n",
       "      <th>2</th>\n",
       "      <td>227</td>\n",
       "      <td>40.0</td>\n",
       "      <td>0.8125</td>\n",
       "      <td>0.1875</td>\n",
       "      <td>0.000</td>\n",
       "      <td>9.7510</td>\n",
       "      <td>5.6595</td>\n",
       "      <td>13.9630</td>\n",
       "      <td>90.9688</td>\n",
       "      <td>91.1228</td>\n",
       "      <td>...</td>\n",
       "      <td>18.657108</td>\n",
       "      <td>-7.153158</td>\n",
       "      <td>-17.775636</td>\n",
       "      <td>-8.272831</td>\n",
       "      <td>0.000000</td>\n",
       "      <td>0.000000</td>\n",
       "      <td>0.000000</td>\n",
       "      <td>0.000000</td>\n",
       "      <td>0.000000</td>\n",
       "      <td>0.000000</td>\n",
       "    </tr>\n",
       "    <tr>\n",
       "      <th>3</th>\n",
       "      <td>167</td>\n",
       "      <td>30.0</td>\n",
       "      <td>0.7500</td>\n",
       "      <td>0.0000</td>\n",
       "      <td>0.250</td>\n",
       "      <td>5.0036</td>\n",
       "      <td>5.0034</td>\n",
       "      <td>13.5318</td>\n",
       "      <td>89.9888</td>\n",
       "      <td>90.0119</td>\n",
       "      <td>...</td>\n",
       "      <td>-6.535425</td>\n",
       "      <td>5.417252</td>\n",
       "      <td>18.701654</td>\n",
       "      <td>-0.988195</td>\n",
       "      <td>-3.018391</td>\n",
       "      <td>0.697301</td>\n",
       "      <td>-3.537541</td>\n",
       "      <td>-0.661436</td>\n",
       "      <td>6.555933</td>\n",
       "      <td>-0.035865</td>\n",
       "    </tr>\n",
       "    <tr>\n",
       "      <th>4</th>\n",
       "      <td>194</td>\n",
       "      <td>80.0</td>\n",
       "      <td>0.0000</td>\n",
       "      <td>0.6250</td>\n",
       "      <td>0.375</td>\n",
       "      <td>6.6614</td>\n",
       "      <td>6.6612</td>\n",
       "      <td>24.5813</td>\n",
       "      <td>89.9960</td>\n",
       "      <td>90.0006</td>\n",
       "      <td>...</td>\n",
       "      <td>-28.288804</td>\n",
       "      <td>10.333018</td>\n",
       "      <td>57.349369</td>\n",
       "      <td>-0.092288</td>\n",
       "      <td>-9.490990</td>\n",
       "      <td>3.752989</td>\n",
       "      <td>-13.992479</td>\n",
       "      <td>-3.302192</td>\n",
       "      <td>23.483469</td>\n",
       "      <td>-0.450797</td>\n",
       "    </tr>\n",
       "  </tbody>\n",
       "</table>\n",
       "<p>5 rows × 35 columns</p>\n",
       "</div>"
      ],
      "text/plain": [
       "   spacegroup  number_of_total_atoms  percent_atom_al  percent_atom_ga  \\\n",
       "0          33                   80.0           0.6250           0.3750   \n",
       "1         194                   80.0           0.6250           0.3750   \n",
       "2         227                   40.0           0.8125           0.1875   \n",
       "3         167                   30.0           0.7500           0.0000   \n",
       "4         194                   80.0           0.0000           0.6250   \n",
       "\n",
       "   percent_atom_in  lattice_vector_1_ang  lattice_vector_2_ang  \\\n",
       "0            0.000                9.9523                8.5513   \n",
       "1            0.000                6.1840                6.1838   \n",
       "2            0.000                9.7510                5.6595   \n",
       "3            0.250                5.0036                5.0034   \n",
       "4            0.375                6.6614                6.6612   \n",
       "\n",
       "   lattice_vector_3_ang  lattice_angle_alpha_degree  \\\n",
       "0                9.1775                     90.0026   \n",
       "1               23.6287                     90.0186   \n",
       "2               13.9630                     90.9688   \n",
       "3               13.5318                     89.9888   \n",
       "4               24.5813                     89.9960   \n",
       "\n",
       "   lattice_angle_beta_degree    ...           O_2        O_3        O_4  \\\n",
       "0                    90.0023    ...     16.817657  -0.743367  -7.667648   \n",
       "1                    89.9980    ...    -26.483708   9.694593  55.814256   \n",
       "2                    91.1228    ...     18.657108  -7.153158 -17.775636   \n",
       "3                    90.0119    ...     -6.535425   5.417252  18.701654   \n",
       "4                    90.0006    ...    -28.288804  10.333018  57.349369   \n",
       "\n",
       "         O_5      In_0      In_1       In_2      In_3       In_4      In_5  \n",
       "0  13.022131  0.000000  0.000000   0.000000  0.000000   0.000000  0.000000  \n",
       "1  -0.324141  0.000000  0.000000   0.000000  0.000000   0.000000  0.000000  \n",
       "2  -8.272831  0.000000  0.000000   0.000000  0.000000   0.000000  0.000000  \n",
       "3  -0.988195 -3.018391  0.697301  -3.537541 -0.661436   6.555933 -0.035865  \n",
       "4  -0.092288 -9.490990  3.752989 -13.992479 -3.302192  23.483469 -0.450797  \n",
       "\n",
       "[5 rows x 35 columns]"
      ]
     },
     "execution_count": 93,
     "metadata": {},
     "output_type": "execute_result"
    }
   ],
   "source": [
    "X_train.head()"
   ]
  },
  {
   "cell_type": "code",
   "execution_count": 94,
   "metadata": {},
   "outputs": [
    {
     "data": {
      "text/plain": [
       "spacegroup                      int64\n",
       "number_of_total_atoms         float64\n",
       "percent_atom_al               float64\n",
       "percent_atom_ga               float64\n",
       "percent_atom_in               float64\n",
       "lattice_vector_1_ang          float64\n",
       "lattice_vector_2_ang          float64\n",
       "lattice_vector_3_ang          float64\n",
       "lattice_angle_alpha_degree    float64\n",
       "lattice_angle_beta_degree     float64\n",
       "lattice_angle_gamma_degree    float64\n",
       "Ga_0                          float64\n",
       "Ga_1                          float64\n",
       "Ga_2                          float64\n",
       "Ga_3                          float64\n",
       "Ga_4                          float64\n",
       "Ga_5                          float64\n",
       "Al_0                          float64\n",
       "Al_1                          float64\n",
       "Al_2                          float64\n",
       "Al_3                          float64\n",
       "Al_4                          float64\n",
       "Al_5                          float64\n",
       "O_0                           float64\n",
       "O_1                           float64\n",
       "O_2                           float64\n",
       "O_3                           float64\n",
       "O_4                           float64\n",
       "O_5                           float64\n",
       "In_0                          float32\n",
       "In_1                          float32\n",
       "In_2                          float32\n",
       "In_3                          float32\n",
       "In_4                          float32\n",
       "In_5                          float32\n",
       "dtype: object"
      ]
     },
     "execution_count": 94,
     "metadata": {},
     "output_type": "execute_result"
    }
   ],
   "source": [
    "X_train.dtypes"
   ]
  },
  {
   "cell_type": "code",
   "execution_count": 95,
   "metadata": {},
   "outputs": [
    {
     "data": {
      "text/html": [
       "<div>\n",
       "<style scoped>\n",
       "    .dataframe tbody tr th:only-of-type {\n",
       "        vertical-align: middle;\n",
       "    }\n",
       "\n",
       "    .dataframe tbody tr th {\n",
       "        vertical-align: top;\n",
       "    }\n",
       "\n",
       "    .dataframe thead th {\n",
       "        text-align: right;\n",
       "    }\n",
       "</style>\n",
       "<table border=\"1\" class=\"dataframe\">\n",
       "  <thead>\n",
       "    <tr style=\"text-align: right;\">\n",
       "      <th></th>\n",
       "      <th>spacegroup</th>\n",
       "      <th>number_of_total_atoms</th>\n",
       "      <th>percent_atom_al</th>\n",
       "      <th>percent_atom_ga</th>\n",
       "      <th>percent_atom_in</th>\n",
       "      <th>lattice_vector_1_ang</th>\n",
       "      <th>lattice_vector_2_ang</th>\n",
       "      <th>lattice_vector_3_ang</th>\n",
       "      <th>lattice_angle_alpha_degree</th>\n",
       "      <th>lattice_angle_beta_degree</th>\n",
       "      <th>...</th>\n",
       "      <th>O_2</th>\n",
       "      <th>O_3</th>\n",
       "      <th>O_4</th>\n",
       "      <th>O_5</th>\n",
       "      <th>In_0</th>\n",
       "      <th>In_1</th>\n",
       "      <th>In_2</th>\n",
       "      <th>In_3</th>\n",
       "      <th>In_4</th>\n",
       "      <th>In_5</th>\n",
       "    </tr>\n",
       "  </thead>\n",
       "  <tbody>\n",
       "    <tr>\n",
       "      <th>count</th>\n",
       "      <td>2400.000000</td>\n",
       "      <td>2400.000000</td>\n",
       "      <td>2400.000000</td>\n",
       "      <td>2400.000000</td>\n",
       "      <td>2400.000000</td>\n",
       "      <td>2400.000000</td>\n",
       "      <td>2400.000000</td>\n",
       "      <td>2400.000000</td>\n",
       "      <td>2400.000000</td>\n",
       "      <td>2400.000000</td>\n",
       "      <td>...</td>\n",
       "      <td>2400.000000</td>\n",
       "      <td>2400.000000</td>\n",
       "      <td>2400.000000</td>\n",
       "      <td>2400.000000</td>\n",
       "      <td>2400.000000</td>\n",
       "      <td>2400.000000</td>\n",
       "      <td>2400.000000</td>\n",
       "      <td>2400.000000</td>\n",
       "      <td>2400.000000</td>\n",
       "      <td>2400.000000</td>\n",
       "    </tr>\n",
       "    <tr>\n",
       "      <th>mean</th>\n",
       "      <td>141.517917</td>\n",
       "      <td>61.679167</td>\n",
       "      <td>0.385439</td>\n",
       "      <td>0.308601</td>\n",
       "      <td>0.305958</td>\n",
       "      <td>10.030005</td>\n",
       "      <td>7.086977</td>\n",
       "      <td>12.593288</td>\n",
       "      <td>90.243666</td>\n",
       "      <td>92.398971</td>\n",
       "      <td>...</td>\n",
       "      <td>-6.421574</td>\n",
       "      <td>2.219081</td>\n",
       "      <td>10.278266</td>\n",
       "      <td>1.027914</td>\n",
       "      <td>0.245591</td>\n",
       "      <td>0.421825</td>\n",
       "      <td>-3.570230</td>\n",
       "      <td>-0.374910</td>\n",
       "      <td>3.324639</td>\n",
       "      <td>-0.046915</td>\n",
       "    </tr>\n",
       "    <tr>\n",
       "      <th>std</th>\n",
       "      <td>84.715548</td>\n",
       "      <td>22.598337</td>\n",
       "      <td>0.265566</td>\n",
       "      <td>0.233717</td>\n",
       "      <td>0.263198</td>\n",
       "      <td>5.645457</td>\n",
       "      <td>1.890330</td>\n",
       "      <td>5.450746</td>\n",
       "      <td>1.333655</td>\n",
       "      <td>5.299734</td>\n",
       "      <td>...</td>\n",
       "      <td>16.182902</td>\n",
       "      <td>8.594958</td>\n",
       "      <td>24.630100</td>\n",
       "      <td>6.574858</td>\n",
       "      <td>10.157738</td>\n",
       "      <td>3.910006</td>\n",
       "      <td>6.962660</td>\n",
       "      <td>3.879292</td>\n",
       "      <td>10.714629</td>\n",
       "      <td>3.173652</td>\n",
       "    </tr>\n",
       "    <tr>\n",
       "      <th>min</th>\n",
       "      <td>12.000000</td>\n",
       "      <td>10.000000</td>\n",
       "      <td>0.000000</td>\n",
       "      <td>0.000000</td>\n",
       "      <td>0.000000</td>\n",
       "      <td>3.037000</td>\n",
       "      <td>2.942300</td>\n",
       "      <td>5.672500</td>\n",
       "      <td>82.744100</td>\n",
       "      <td>81.641300</td>\n",
       "      <td>...</td>\n",
       "      <td>-29.417050</td>\n",
       "      <td>-13.953946</td>\n",
       "      <td>-26.248045</td>\n",
       "      <td>-11.344656</td>\n",
       "      <td>-21.093151</td>\n",
       "      <td>-11.908874</td>\n",
       "      <td>-22.249285</td>\n",
       "      <td>-12.229986</td>\n",
       "      <td>-20.215862</td>\n",
       "      <td>-11.899655</td>\n",
       "    </tr>\n",
       "    <tr>\n",
       "      <th>25%</th>\n",
       "      <td>33.000000</td>\n",
       "      <td>40.000000</td>\n",
       "      <td>0.166700</td>\n",
       "      <td>0.093800</td>\n",
       "      <td>0.062500</td>\n",
       "      <td>6.141100</td>\n",
       "      <td>5.833625</td>\n",
       "      <td>9.298000</td>\n",
       "      <td>89.999700</td>\n",
       "      <td>90.000900</td>\n",
       "      <td>...</td>\n",
       "      <td>-26.051329</td>\n",
       "      <td>-5.659644</td>\n",
       "      <td>-7.675847</td>\n",
       "      <td>-2.262659</td>\n",
       "      <td>-5.328010</td>\n",
       "      <td>-1.536336</td>\n",
       "      <td>-7.702854</td>\n",
       "      <td>-2.892687</td>\n",
       "      <td>-2.830578</td>\n",
       "      <td>-1.023361</td>\n",
       "    </tr>\n",
       "    <tr>\n",
       "      <th>50%</th>\n",
       "      <td>194.000000</td>\n",
       "      <td>80.000000</td>\n",
       "      <td>0.375000</td>\n",
       "      <td>0.281200</td>\n",
       "      <td>0.250000</td>\n",
       "      <td>9.537450</td>\n",
       "      <td>6.382950</td>\n",
       "      <td>10.125000</td>\n",
       "      <td>90.001700</td>\n",
       "      <td>90.003550</td>\n",
       "      <td>...</td>\n",
       "      <td>-6.653003</td>\n",
       "      <td>5.310249</td>\n",
       "      <td>14.623858</td>\n",
       "      <td>-0.604961</td>\n",
       "      <td>-0.731288</td>\n",
       "      <td>0.000000</td>\n",
       "      <td>-3.110090</td>\n",
       "      <td>0.000000</td>\n",
       "      <td>0.000000</td>\n",
       "      <td>-0.056492</td>\n",
       "    </tr>\n",
       "    <tr>\n",
       "      <th>75%</th>\n",
       "      <td>206.000000</td>\n",
       "      <td>80.000000</td>\n",
       "      <td>0.583300</td>\n",
       "      <td>0.468800</td>\n",
       "      <td>0.468800</td>\n",
       "      <td>10.292100</td>\n",
       "      <td>9.093450</td>\n",
       "      <td>14.372050</td>\n",
       "      <td>90.006200</td>\n",
       "      <td>90.014400</td>\n",
       "      <td>...</td>\n",
       "      <td>10.702986</td>\n",
       "      <td>10.056414</td>\n",
       "      <td>19.584701</td>\n",
       "      <td>5.064403</td>\n",
       "      <td>0.000000</td>\n",
       "      <td>1.771441</td>\n",
       "      <td>0.000000</td>\n",
       "      <td>1.067257</td>\n",
       "      <td>9.903929</td>\n",
       "      <td>0.000000</td>\n",
       "    </tr>\n",
       "    <tr>\n",
       "      <th>max</th>\n",
       "      <td>227.000000</td>\n",
       "      <td>80.000000</td>\n",
       "      <td>1.000000</td>\n",
       "      <td>1.000000</td>\n",
       "      <td>1.000000</td>\n",
       "      <td>24.913400</td>\n",
       "      <td>10.290300</td>\n",
       "      <td>25.346000</td>\n",
       "      <td>101.229800</td>\n",
       "      <td>106.168200</td>\n",
       "      <td>...</td>\n",
       "      <td>23.494396</td>\n",
       "      <td>15.058075</td>\n",
       "      <td>58.906129</td>\n",
       "      <td>15.128008</td>\n",
       "      <td>41.609741</td>\n",
       "      <td>13.785874</td>\n",
       "      <td>17.012960</td>\n",
       "      <td>13.784061</td>\n",
       "      <td>42.359432</td>\n",
       "      <td>13.787948</td>\n",
       "    </tr>\n",
       "  </tbody>\n",
       "</table>\n",
       "<p>8 rows × 35 columns</p>\n",
       "</div>"
      ],
      "text/plain": [
       "        spacegroup  number_of_total_atoms  percent_atom_al  percent_atom_ga  \\\n",
       "count  2400.000000            2400.000000      2400.000000      2400.000000   \n",
       "mean    141.517917              61.679167         0.385439         0.308601   \n",
       "std      84.715548              22.598337         0.265566         0.233717   \n",
       "min      12.000000              10.000000         0.000000         0.000000   \n",
       "25%      33.000000              40.000000         0.166700         0.093800   \n",
       "50%     194.000000              80.000000         0.375000         0.281200   \n",
       "75%     206.000000              80.000000         0.583300         0.468800   \n",
       "max     227.000000              80.000000         1.000000         1.000000   \n",
       "\n",
       "       percent_atom_in  lattice_vector_1_ang  lattice_vector_2_ang  \\\n",
       "count      2400.000000           2400.000000           2400.000000   \n",
       "mean          0.305958             10.030005              7.086977   \n",
       "std           0.263198              5.645457              1.890330   \n",
       "min           0.000000              3.037000              2.942300   \n",
       "25%           0.062500              6.141100              5.833625   \n",
       "50%           0.250000              9.537450              6.382950   \n",
       "75%           0.468800             10.292100              9.093450   \n",
       "max           1.000000             24.913400             10.290300   \n",
       "\n",
       "       lattice_vector_3_ang  lattice_angle_alpha_degree  \\\n",
       "count           2400.000000                 2400.000000   \n",
       "mean              12.593288                   90.243666   \n",
       "std                5.450746                    1.333655   \n",
       "min                5.672500                   82.744100   \n",
       "25%                9.298000                   89.999700   \n",
       "50%               10.125000                   90.001700   \n",
       "75%               14.372050                   90.006200   \n",
       "max               25.346000                  101.229800   \n",
       "\n",
       "       lattice_angle_beta_degree     ...               O_2          O_3  \\\n",
       "count                2400.000000     ...       2400.000000  2400.000000   \n",
       "mean                   92.398971     ...         -6.421574     2.219081   \n",
       "std                     5.299734     ...         16.182902     8.594958   \n",
       "min                    81.641300     ...        -29.417050   -13.953946   \n",
       "25%                    90.000900     ...        -26.051329    -5.659644   \n",
       "50%                    90.003550     ...         -6.653003     5.310249   \n",
       "75%                    90.014400     ...         10.702986    10.056414   \n",
       "max                   106.168200     ...         23.494396    15.058075   \n",
       "\n",
       "               O_4          O_5         In_0         In_1         In_2  \\\n",
       "count  2400.000000  2400.000000  2400.000000  2400.000000  2400.000000   \n",
       "mean     10.278266     1.027914     0.245591     0.421825    -3.570230   \n",
       "std      24.630100     6.574858    10.157738     3.910006     6.962660   \n",
       "min     -26.248045   -11.344656   -21.093151   -11.908874   -22.249285   \n",
       "25%      -7.675847    -2.262659    -5.328010    -1.536336    -7.702854   \n",
       "50%      14.623858    -0.604961    -0.731288     0.000000    -3.110090   \n",
       "75%      19.584701     5.064403     0.000000     1.771441     0.000000   \n",
       "max      58.906129    15.128008    41.609741    13.785874    17.012960   \n",
       "\n",
       "              In_3         In_4         In_5  \n",
       "count  2400.000000  2400.000000  2400.000000  \n",
       "mean     -0.374910     3.324639    -0.046915  \n",
       "std       3.879292    10.714629     3.173652  \n",
       "min     -12.229986   -20.215862   -11.899655  \n",
       "25%      -2.892687    -2.830578    -1.023361  \n",
       "50%       0.000000     0.000000    -0.056492  \n",
       "75%       1.067257     9.903929     0.000000  \n",
       "max      13.784061    42.359432    13.787948  \n",
       "\n",
       "[8 rows x 35 columns]"
      ]
     },
     "execution_count": 95,
     "metadata": {},
     "output_type": "execute_result"
    }
   ],
   "source": [
    "X_train.describe()"
   ]
  },
  {
   "cell_type": "code",
   "execution_count": null,
   "metadata": {},
   "outputs": [],
   "source": []
  },
  {
   "cell_type": "markdown",
   "metadata": {},
   "source": [
    "#### we'll treat *spacegroup* as categorical, the rest should be float32 and will be represented with an embedding matrix in the network\n",
    "\n",
    "See: [Entity Embeddings of Categorical Variables](https://arxiv.org/abs/1604.06737)"
   ]
  },
  {
   "cell_type": "code",
   "execution_count": 96,
   "metadata": {},
   "outputs": [
    {
     "data": {
      "text/plain": [
       "2400"
      ]
     },
     "execution_count": 96,
     "metadata": {},
     "output_type": "execute_result"
    }
   ],
   "source": [
    "cat_vars = ['spacegroup']\n",
    "contin_vars = [c for c in X_train.columns if c not in cat_vars]\n",
    "\n",
    "n = len(X_train); n"
   ]
  },
  {
   "cell_type": "code",
   "execution_count": 97,
   "metadata": {},
   "outputs": [],
   "source": [
    "for v in cat_vars: X_train[v] = X_train[v].astype('category').cat.as_ordered()"
   ]
  },
  {
   "cell_type": "code",
   "execution_count": 98,
   "metadata": {},
   "outputs": [],
   "source": [
    "for v in contin_vars: X_train[v] = X_train[v].astype(np.float32)\n",
    "# for v in contin_vars: X_val[v] = X_val[v].astype(np.float32)"
   ]
  },
  {
   "cell_type": "markdown",
   "metadata": {},
   "source": [
    "#### now, apply the *spacegroup* categories to the test data"
   ]
  },
  {
   "cell_type": "code",
   "execution_count": 99,
   "metadata": {},
   "outputs": [],
   "source": [
    "apply_cats(df=test, trn=X_train)"
   ]
  },
  {
   "cell_type": "code",
   "execution_count": null,
   "metadata": {},
   "outputs": [],
   "source": []
  },
  {
   "cell_type": "markdown",
   "metadata": {},
   "source": [
    "#### set the dependent var, because there are two vars to predict"
   ]
  },
  {
   "cell_type": "code",
   "execution_count": 100,
   "metadata": {},
   "outputs": [],
   "source": [
    "# dep_var = y_train_1\n",
    "dep_var = y_train_2"
   ]
  },
  {
   "cell_type": "code",
   "execution_count": 101,
   "metadata": {},
   "outputs": [
    {
     "data": {
      "text/plain": [
       "'bandgap_energy_ev'"
      ]
     },
     "execution_count": 101,
     "metadata": {},
     "output_type": "execute_result"
    }
   ],
   "source": [
    "dep_var.name"
   ]
  },
  {
   "cell_type": "code",
   "execution_count": null,
   "metadata": {},
   "outputs": [],
   "source": []
  },
  {
   "cell_type": "markdown",
   "metadata": {},
   "source": [
    "#### prepare the training data"
   ]
  },
  {
   "cell_type": "code",
   "execution_count": 102,
   "metadata": {},
   "outputs": [],
   "source": [
    "df_train, y, nas, mapper = proc_df(\n",
    "    df=pd.concat([X_train, dep_var], axis=1), \n",
    "    y_fld=dep_var.name, \n",
    "    do_scale=True\n",
    ")"
   ]
  },
  {
   "cell_type": "code",
   "execution_count": 103,
   "metadata": {},
   "outputs": [
    {
     "data": {
      "text/html": [
       "<div>\n",
       "<style scoped>\n",
       "    .dataframe tbody tr th:only-of-type {\n",
       "        vertical-align: middle;\n",
       "    }\n",
       "\n",
       "    .dataframe tbody tr th {\n",
       "        vertical-align: top;\n",
       "    }\n",
       "\n",
       "    .dataframe thead th {\n",
       "        text-align: right;\n",
       "    }\n",
       "</style>\n",
       "<table border=\"1\" class=\"dataframe\">\n",
       "  <thead>\n",
       "    <tr style=\"text-align: right;\">\n",
       "      <th></th>\n",
       "      <th>spacegroup</th>\n",
       "      <th>number_of_total_atoms</th>\n",
       "      <th>percent_atom_al</th>\n",
       "      <th>percent_atom_ga</th>\n",
       "      <th>percent_atom_in</th>\n",
       "      <th>lattice_vector_1_ang</th>\n",
       "      <th>lattice_vector_2_ang</th>\n",
       "      <th>lattice_vector_3_ang</th>\n",
       "      <th>lattice_angle_alpha_degree</th>\n",
       "      <th>lattice_angle_beta_degree</th>\n",
       "      <th>...</th>\n",
       "      <th>O_2</th>\n",
       "      <th>O_3</th>\n",
       "      <th>O_4</th>\n",
       "      <th>O_5</th>\n",
       "      <th>In_0</th>\n",
       "      <th>In_1</th>\n",
       "      <th>In_2</th>\n",
       "      <th>In_3</th>\n",
       "      <th>In_4</th>\n",
       "      <th>In_5</th>\n",
       "    </tr>\n",
       "  </thead>\n",
       "  <tbody>\n",
       "    <tr>\n",
       "      <th>0</th>\n",
       "      <td>2</td>\n",
       "      <td>0.810885</td>\n",
       "      <td>0.902265</td>\n",
       "      <td>0.284159</td>\n",
       "      <td>-1.162707</td>\n",
       "      <td>-0.013767</td>\n",
       "      <td>0.774800</td>\n",
       "      <td>-0.626795</td>\n",
       "      <td>-0.180788</td>\n",
       "      <td>-0.452320</td>\n",
       "      <td>...</td>\n",
       "      <td>1.436335</td>\n",
       "      <td>-0.344745</td>\n",
       "      <td>-0.728769</td>\n",
       "      <td>1.824635</td>\n",
       "      <td>-0.024183</td>\n",
       "      <td>-0.107906</td>\n",
       "      <td>0.512875</td>\n",
       "      <td>0.096664</td>\n",
       "      <td>-0.310354</td>\n",
       "      <td>0.014786</td>\n",
       "    </tr>\n",
       "    <tr>\n",
       "      <th>1</th>\n",
       "      <td>4</td>\n",
       "      <td>0.810885</td>\n",
       "      <td>0.902265</td>\n",
       "      <td>0.284159</td>\n",
       "      <td>-1.162707</td>\n",
       "      <td>-0.681399</td>\n",
       "      <td>-0.477888</td>\n",
       "      <td>2.024991</td>\n",
       "      <td>-0.168789</td>\n",
       "      <td>-0.453130</td>\n",
       "      <td>...</td>\n",
       "      <td>-1.239970</td>\n",
       "      <td>0.869937</td>\n",
       "      <td>1.849180</td>\n",
       "      <td>-0.205683</td>\n",
       "      <td>-0.024183</td>\n",
       "      <td>-0.107906</td>\n",
       "      <td>0.512875</td>\n",
       "      <td>0.096664</td>\n",
       "      <td>-0.310354</td>\n",
       "      <td>0.014786</td>\n",
       "    </tr>\n",
       "    <tr>\n",
       "      <th>2</th>\n",
       "      <td>6</td>\n",
       "      <td>-0.959526</td>\n",
       "      <td>1.608450</td>\n",
       "      <td>-0.518259</td>\n",
       "      <td>-1.162707</td>\n",
       "      <td>-0.049431</td>\n",
       "      <td>-0.755305</td>\n",
       "      <td>0.251341</td>\n",
       "      <td>0.543840</td>\n",
       "      <td>-0.240849</td>\n",
       "      <td>...</td>\n",
       "      <td>1.550025</td>\n",
       "      <td>-1.090662</td>\n",
       "      <td>-1.139246</td>\n",
       "      <td>-1.414887</td>\n",
       "      <td>-0.024183</td>\n",
       "      <td>-0.107906</td>\n",
       "      <td>0.512875</td>\n",
       "      <td>0.096664</td>\n",
       "      <td>-0.310354</td>\n",
       "      <td>0.014786</td>\n",
       "    </tr>\n",
       "    <tr>\n",
       "      <th>3</th>\n",
       "      <td>3</td>\n",
       "      <td>-1.402128</td>\n",
       "      <td>1.373055</td>\n",
       "      <td>-1.320676</td>\n",
       "      <td>-0.212653</td>\n",
       "      <td>-0.890531</td>\n",
       "      <td>-1.102460</td>\n",
       "      <td>0.172217</td>\n",
       "      <td>-0.191139</td>\n",
       "      <td>-0.450507</td>\n",
       "      <td>...</td>\n",
       "      <td>-0.007037</td>\n",
       "      <td>0.372176</td>\n",
       "      <td>0.342067</td>\n",
       "      <td>-0.306703</td>\n",
       "      <td>-0.321397</td>\n",
       "      <td>0.070469</td>\n",
       "      <td>0.004696</td>\n",
       "      <td>-0.073876</td>\n",
       "      <td>0.301641</td>\n",
       "      <td>0.003482</td>\n",
       "    </tr>\n",
       "    <tr>\n",
       "      <th>4</th>\n",
       "      <td>4</td>\n",
       "      <td>0.810885</td>\n",
       "      <td>-1.451685</td>\n",
       "      <td>1.354049</td>\n",
       "      <td>0.262373</td>\n",
       "      <td>-0.596817</td>\n",
       "      <td>-0.225287</td>\n",
       "      <td>2.199793</td>\n",
       "      <td>-0.185737</td>\n",
       "      <td>-0.452639</td>\n",
       "      <td>...</td>\n",
       "      <td>-1.351537</td>\n",
       "      <td>0.944231</td>\n",
       "      <td>1.911519</td>\n",
       "      <td>-0.170412</td>\n",
       "      <td>-0.958738</td>\n",
       "      <td>0.852136</td>\n",
       "      <td>-1.497189</td>\n",
       "      <td>-0.754749</td>\n",
       "      <td>1.881823</td>\n",
       "      <td>-0.127287</td>\n",
       "    </tr>\n",
       "  </tbody>\n",
       "</table>\n",
       "<p>5 rows × 35 columns</p>\n",
       "</div>"
      ],
      "text/plain": [
       "   spacegroup  number_of_total_atoms  percent_atom_al  percent_atom_ga  \\\n",
       "0           2               0.810885         0.902265         0.284159   \n",
       "1           4               0.810885         0.902265         0.284159   \n",
       "2           6              -0.959526         1.608450        -0.518259   \n",
       "3           3              -1.402128         1.373055        -1.320676   \n",
       "4           4               0.810885        -1.451685         1.354049   \n",
       "\n",
       "   percent_atom_in  lattice_vector_1_ang  lattice_vector_2_ang  \\\n",
       "0        -1.162707             -0.013767              0.774800   \n",
       "1        -1.162707             -0.681399             -0.477888   \n",
       "2        -1.162707             -0.049431             -0.755305   \n",
       "3        -0.212653             -0.890531             -1.102460   \n",
       "4         0.262373             -0.596817             -0.225287   \n",
       "\n",
       "   lattice_vector_3_ang  lattice_angle_alpha_degree  \\\n",
       "0             -0.626795                   -0.180788   \n",
       "1              2.024991                   -0.168789   \n",
       "2              0.251341                    0.543840   \n",
       "3              0.172217                   -0.191139   \n",
       "4              2.199793                   -0.185737   \n",
       "\n",
       "   lattice_angle_beta_degree    ...          O_2       O_3       O_4  \\\n",
       "0                  -0.452320    ...     1.436335 -0.344745 -0.728769   \n",
       "1                  -0.453130    ...    -1.239970  0.869937  1.849180   \n",
       "2                  -0.240849    ...     1.550025 -1.090662 -1.139246   \n",
       "3                  -0.450507    ...    -0.007037  0.372176  0.342067   \n",
       "4                  -0.452639    ...    -1.351537  0.944231  1.911519   \n",
       "\n",
       "        O_5      In_0      In_1      In_2      In_3      In_4      In_5  \n",
       "0  1.824635 -0.024183 -0.107906  0.512875  0.096664 -0.310354  0.014786  \n",
       "1 -0.205683 -0.024183 -0.107906  0.512875  0.096664 -0.310354  0.014786  \n",
       "2 -1.414887 -0.024183 -0.107906  0.512875  0.096664 -0.310354  0.014786  \n",
       "3 -0.306703 -0.321397  0.070469  0.004696 -0.073876  0.301641  0.003482  \n",
       "4 -0.170412 -0.958738  0.852136 -1.497189 -0.754749  1.881823 -0.127287  \n",
       "\n",
       "[5 rows x 35 columns]"
      ]
     },
     "execution_count": 103,
     "metadata": {},
     "output_type": "execute_result"
    }
   ],
   "source": [
    "df_train.head()"
   ]
  },
  {
   "cell_type": "code",
   "execution_count": 104,
   "metadata": {},
   "outputs": [
    {
     "data": {
      "text/plain": [
       "array([3.4387, 2.921 , 2.7438, 3.3492, 1.3793])"
      ]
     },
     "execution_count": 104,
     "metadata": {},
     "output_type": "execute_result"
    }
   ],
   "source": [
    "y[:5]"
   ]
  },
  {
   "cell_type": "code",
   "execution_count": null,
   "metadata": {},
   "outputs": [],
   "source": []
  },
  {
   "cell_type": "markdown",
   "metadata": {},
   "source": [
    "#### prepare the test data"
   ]
  },
  {
   "cell_type": "code",
   "execution_count": 105,
   "metadata": {},
   "outputs": [],
   "source": [
    "# required filler\n",
    "test[dep_var.name] = 0"
   ]
  },
  {
   "cell_type": "code",
   "execution_count": 106,
   "metadata": {},
   "outputs": [],
   "source": [
    "df_test, _, nas, mapper = proc_df(\n",
    "    df=test,\n",
    "    y_fld=dep_var.name,\n",
    "    do_scale=True,\n",
    "    mapper=mapper, \n",
    "    na_dict=nas\n",
    ")"
   ]
  },
  {
   "cell_type": "code",
   "execution_count": 107,
   "metadata": {},
   "outputs": [
    {
     "data": {
      "text/plain": [
       "(600, 35)"
      ]
     },
     "execution_count": 107,
     "metadata": {},
     "output_type": "execute_result"
    }
   ],
   "source": [
    "df_test.shape"
   ]
  },
  {
   "cell_type": "code",
   "execution_count": null,
   "metadata": {},
   "outputs": [],
   "source": []
  },
  {
   "cell_type": "markdown",
   "metadata": {},
   "source": [
    "# Training"
   ]
  },
  {
   "cell_type": "markdown",
   "metadata": {},
   "source": [
    "#### set up training params"
   ]
  },
  {
   "cell_type": "code",
   "execution_count": 108,
   "metadata": {},
   "outputs": [],
   "source": [
    "y_range = (np.min(dep_var) * 0.8, np.max(dep_var) * 1.2)"
   ]
  },
  {
   "cell_type": "code",
   "execution_count": 109,
   "metadata": {},
   "outputs": [
    {
     "data": {
      "text/plain": [
       "(2400, 35)"
      ]
     },
     "execution_count": 109,
     "metadata": {},
     "output_type": "execute_result"
    }
   ],
   "source": [
    "X_train.shape"
   ]
  },
  {
   "cell_type": "code",
   "execution_count": 110,
   "metadata": {},
   "outputs": [
    {
     "data": {
      "text/plain": [
       "array([   0,    1,    2, ..., 2397, 2398, 2399])"
      ]
     },
     "execution_count": 110,
     "metadata": {},
     "output_type": "execute_result"
    }
   ],
   "source": [
    "X_train.index.values"
   ]
  },
  {
   "cell_type": "code",
   "execution_count": 111,
   "metadata": {},
   "outputs": [],
   "source": [
    "# val_idx = np.random.choice(X_train.index.values, 2000, replace=False)\n",
    "val_idx = get_cv_idxs(X_train.shape[0])"
   ]
  },
  {
   "cell_type": "code",
   "execution_count": 112,
   "metadata": {},
   "outputs": [
    {
     "data": {
      "text/plain": [
       "array([2037, 1978,  855, 1719, 2019,  134, 1375, 1711, 1289, 1068])"
      ]
     },
     "execution_count": 112,
     "metadata": {},
     "output_type": "execute_result"
    }
   ],
   "source": [
    "val_idx[:10]"
   ]
  },
  {
   "cell_type": "code",
   "execution_count": 113,
   "metadata": {},
   "outputs": [
    {
     "data": {
      "text/plain": [
       "480"
      ]
     },
     "execution_count": 113,
     "metadata": {},
     "output_type": "execute_result"
    }
   ],
   "source": [
    "len(val_idx)"
   ]
  },
  {
   "cell_type": "code",
   "execution_count": null,
   "metadata": {},
   "outputs": [],
   "source": []
  },
  {
   "cell_type": "markdown",
   "metadata": {},
   "source": [
    "#### create a ModelData object"
   ]
  },
  {
   "cell_type": "code",
   "execution_count": 114,
   "metadata": {},
   "outputs": [],
   "source": [
    "md = ColumnarModelData.from_data_frame(\n",
    "    path='.', \n",
    "    val_idxs=val_idx, \n",
    "    df=df_train, \n",
    "    y=y, \n",
    "    cat_flds=cat_vars, \n",
    "    bs=32,\n",
    "    test_df=df_test\n",
    ")"
   ]
  },
  {
   "cell_type": "code",
   "execution_count": 115,
   "metadata": {},
   "outputs": [
    {
     "data": {
      "text/plain": [
       "[('spacegroup', 7)]"
      ]
     },
     "execution_count": 115,
     "metadata": {},
     "output_type": "execute_result"
    }
   ],
   "source": [
    "# create list of tuples for categorical variables\n",
    "cat_sz = [(c, len(X_train[c].cat.categories)+1) for c in cat_vars]\n",
    "cat_sz"
   ]
  },
  {
   "cell_type": "code",
   "execution_count": 116,
   "metadata": {},
   "outputs": [
    {
     "data": {
      "text/plain": [
       "[(7, 4)]"
      ]
     },
     "execution_count": 116,
     "metadata": {},
     "output_type": "execute_result"
    }
   ],
   "source": [
    "# create list of tuples of embedding matrix dimensions\n",
    "emb_szs = [(c, min(50, (c+1)//2)) for _,c in cat_sz]\n",
    "emb_szs"
   ]
  },
  {
   "cell_type": "code",
   "execution_count": null,
   "metadata": {},
   "outputs": [],
   "source": []
  },
  {
   "cell_type": "markdown",
   "metadata": {},
   "source": [
    "#### get the learner object"
   ]
  },
  {
   "cell_type": "code",
   "execution_count": 117,
   "metadata": {},
   "outputs": [],
   "source": [
    "n_cont=len(df_train.columns)-len(cat_vars)"
   ]
  },
  {
   "cell_type": "code",
   "execution_count": 118,
   "metadata": {},
   "outputs": [],
   "source": [
    "m = md.get_learner(\n",
    "    emb_szs=emb_szs,  # dimension of embedding matricies\n",
    "    n_cont=n_cont,    # number of continuous vars\n",
    "    emb_drop=0.4,     # embedding dropout\n",
    "    out_sz=1,         # out size of one since perfroming regression\n",
    "    szs=[1000, 500],  # sizes of fully connected layers\n",
    "    drops=[0.1, 0.1], # dropout for fully connected layers\n",
    "    y_range=y_range   # y-range\n",
    ")"
   ]
  },
  {
   "cell_type": "markdown",
   "metadata": {},
   "source": [
    "guess at a good learning rate"
   ]
  },
  {
   "cell_type": "code",
   "execution_count": 119,
   "metadata": {},
   "outputs": [
    {
     "data": {
      "application/vnd.jupyter.widget-view+json": {
       "model_id": "a5093431190f486599c46e9c4ba82987",
       "version_major": 2,
       "version_minor": 0
      },
      "text/html": [
       "<p>Failed to display Jupyter Widget of type <code>HBox</code>.</p>\n",
       "<p>\n",
       "  If you're reading this message in the Jupyter Notebook or JupyterLab Notebook, it may mean\n",
       "  that the widgets JavaScript is still loading. If this message persists, it\n",
       "  likely means that the widgets JavaScript library is either not installed or\n",
       "  not enabled. See the <a href=\"https://ipywidgets.readthedocs.io/en/stable/user_install.html\">Jupyter\n",
       "  Widgets Documentation</a> for setup instructions.\n",
       "</p>\n",
       "<p>\n",
       "  If you're reading this message in another frontend (for example, a static\n",
       "  rendering on GitHub or <a href=\"https://nbviewer.jupyter.org/\">NBViewer</a>),\n",
       "  it may mean that your frontend doesn't currently support widgets.\n",
       "</p>\n"
      ],
      "text/plain": [
       "HBox(children=(IntProgress(value=0, description='Epoch', max=1), HTML(value='')))"
      ]
     },
     "metadata": {},
     "output_type": "display_data"
    },
    {
     "name": "stdout",
     "output_type": "stream",
     "text": [
      "epoch      trn_loss   val_loss                            \n",
      "    0      4.475555   5.149793  \n",
      "\n"
     ]
    }
   ],
   "source": [
    "m.lr_find(start_lr=1e-7, end_lr=10)"
   ]
  },
  {
   "cell_type": "code",
   "execution_count": 120,
   "metadata": {},
   "outputs": [
    {
     "data": {
      "image/png": "[encoded data removed]",
      "text/plain": [
       "<matplotlib.figure.Figure at 0x7f838331c438>"
      ]
     },
     "metadata": {},
     "output_type": "display_data"
    }
   ],
   "source": [
    "m.sched.plot()"
   ]
  },
  {
   "cell_type": "markdown",
   "metadata": {},
   "source": [
    "lr_find() method is an implementation of [Cyclical Learning Rates for Training Neural Networks](https://arxiv.org/abs/1506.01186)\n",
    "\n",
    "Basically, it keeps increasing the learning rate until the loss stops decreasing."
   ]
  },
  {
   "cell_type": "markdown",
   "metadata": {},
   "source": [
    "**1e-4** looks reasonable as loss is still decreasing..."
   ]
  },
  {
   "cell_type": "code",
   "execution_count": 121,
   "metadata": {},
   "outputs": [],
   "source": [
    "lr = 1e-4"
   ]
  },
  {
   "cell_type": "code",
   "execution_count": 122,
   "metadata": {},
   "outputs": [],
   "source": [
    "def rmsle(predicted, actual):\n",
    "    assert len(predicted) == len(actual)\n",
    "    return np.sqrt((np.power(np.log1p(actual) - np.log1p(predicted), 2)).mean())"
   ]
  },
  {
   "cell_type": "code",
   "execution_count": null,
   "metadata": {},
   "outputs": [],
   "source": []
  },
  {
   "cell_type": "markdown",
   "metadata": {},
   "source": [
    "### architecture summary"
   ]
  },
  {
   "cell_type": "code",
   "execution_count": 142,
   "metadata": {},
   "outputs": [
    {
     "data": {
      "text/plain": [
       "<bound method Learner.summary of MixedInputModel(\n",
       "  (embs): ModuleList(\n",
       "    (0): Embedding(7, 4)\n",
       "  )\n",
       "  (lins): ModuleList(\n",
       "    (0): Linear(in_features=38, out_features=1000)\n",
       "    (1): Linear(in_features=1000, out_features=500)\n",
       "  )\n",
       "  (bns): ModuleList(\n",
       "    (0): BatchNorm1d(1000, eps=1e-05, momentum=0.1, affine=True)\n",
       "    (1): BatchNorm1d(500, eps=1e-05, momentum=0.1, affine=True)\n",
       "  )\n",
       "  (outp): Linear(in_features=500, out_features=1)\n",
       "  (emb_drop): Dropout(p=0.4)\n",
       "  (drops): ModuleList(\n",
       "    (0): Dropout(p=0.1)\n",
       "    (1): Dropout(p=0.1)\n",
       "  )\n",
       "  (bn): BatchNorm1d(34, eps=1e-05, momentum=0.1, affine=True)\n",
       ")>"
      ]
     },
     "execution_count": 142,
     "metadata": {},
     "output_type": "execute_result"
    }
   ],
   "source": [
    "m.summary"
   ]
  },
  {
   "cell_type": "code",
   "execution_count": null,
   "metadata": {},
   "outputs": [],
   "source": []
  },
  {
   "cell_type": "markdown",
   "metadata": {},
   "source": [
    "### now, we can train\n",
    "run fit() until we start to overfit"
   ]
  },
  {
   "cell_type": "code",
   "execution_count": 127,
   "metadata": {},
   "outputs": [
    {
     "data": {
      "application/vnd.jupyter.widget-view+json": {
       "model_id": "660dc4f1f2d14c31be3514262fd188a1",
       "version_major": 2,
       "version_minor": 0
      },
      "text/html": [
       "<p>Failed to display Jupyter Widget of type <code>HBox</code>.</p>\n",
       "<p>\n",
       "  If you're reading this message in the Jupyter Notebook or JupyterLab Notebook, it may mean\n",
       "  that the widgets JavaScript is still loading. If this message persists, it\n",
       "  likely means that the widgets JavaScript library is either not installed or\n",
       "  not enabled. See the <a href=\"https://ipywidgets.readthedocs.io/en/stable/user_install.html\">Jupyter\n",
       "  Widgets Documentation</a> for setup instructions.\n",
       "</p>\n",
       "<p>\n",
       "  If you're reading this message in another frontend (for example, a static\n",
       "  rendering on GitHub or <a href=\"https://nbviewer.jupyter.org/\">NBViewer</a>),\n",
       "  it may mean that your frontend doesn't currently support widgets.\n",
       "</p>\n"
      ],
      "text/plain": [
       "HBox(children=(IntProgress(value=0, description='Epoch', max=8), HTML(value='')))"
      ]
     },
     "metadata": {},
     "output_type": "display_data"
    },
    {
     "name": "stdout",
     "output_type": "stream",
     "text": [
      "epoch      trn_loss   val_loss   rmsle                      \n",
      "    0      0.089214   0.091823   0.108341  \n",
      "    1      0.089229   0.084573   0.10387                    \n",
      "    2      0.090938   0.080019   0.101326                   \n",
      "    3      0.088779   0.079676   0.102705                   \n",
      "    4      0.084583   0.080181   0.101888                   \n",
      "    5      0.083939   0.078168   0.10087                    \n",
      "    6      0.084355   0.083842   0.103923                   \n",
      "    7      0.078938   0.07947    0.102047                   \n",
      "\n"
     ]
    },
    {
     "data": {
      "text/plain": [
       "[0.07947042, 0.10204705178509688]"
      ]
     },
     "execution_count": 127,
     "metadata": {},
     "output_type": "execute_result"
    }
   ],
   "source": [
    "m.fit(lr, n_cycle=4, metrics=[rmsle], cycle_len=2)"
   ]
  },
  {
   "cell_type": "code",
   "execution_count": null,
   "metadata": {},
   "outputs": [],
   "source": []
  },
  {
   "cell_type": "markdown",
   "metadata": {},
   "source": [
    "check how the model did on the training data"
   ]
  },
  {
   "cell_type": "code",
   "execution_count": 128,
   "metadata": {},
   "outputs": [],
   "source": [
    "train_pred, actual = m.predict_with_targs()"
   ]
  },
  {
   "cell_type": "code",
   "execution_count": 129,
   "metadata": {},
   "outputs": [
    {
     "data": {
      "text/plain": [
       "0.10501234"
      ]
     },
     "execution_count": 129,
     "metadata": {},
     "output_type": "execute_result"
    }
   ],
   "source": [
    "rmsle(train_pred, actual)"
   ]
  },
  {
   "cell_type": "code",
   "execution_count": null,
   "metadata": {},
   "outputs": [],
   "source": []
  },
  {
   "cell_type": "markdown",
   "metadata": {},
   "source": [
    "#### make predictions on test set"
   ]
  },
  {
   "cell_type": "code",
   "execution_count": 130,
   "metadata": {},
   "outputs": [],
   "source": [
    "preds = m.predict(is_test=True)"
   ]
  },
  {
   "cell_type": "code",
   "execution_count": 131,
   "metadata": {},
   "outputs": [
    {
     "data": {
      "text/plain": [
       "(600, 1)"
      ]
     },
     "execution_count": 131,
     "metadata": {},
     "output_type": "execute_result"
    }
   ],
   "source": [
    "preds.shape"
   ]
  },
  {
   "cell_type": "code",
   "execution_count": null,
   "metadata": {},
   "outputs": [],
   "source": []
  },
  {
   "cell_type": "code",
   "execution_count": null,
   "metadata": {},
   "outputs": [],
   "source": []
  },
  {
   "cell_type": "markdown",
   "metadata": {},
   "source": [
    "### create submission\n",
    "\n",
    "note the above should be run through twice with the 2 required dep_vars."
   ]
  },
  {
   "cell_type": "code",
   "execution_count": 132,
   "metadata": {},
   "outputs": [
    {
     "data": {
      "text/plain": [
       "'bandgap_energy_ev'"
      ]
     },
     "execution_count": 132,
     "metadata": {},
     "output_type": "execute_result"
    }
   ],
   "source": [
    "dep_var.name"
   ]
  },
  {
   "cell_type": "code",
   "execution_count": null,
   "metadata": {},
   "outputs": [],
   "source": []
  },
  {
   "cell_type": "code",
   "execution_count": 133,
   "metadata": {},
   "outputs": [],
   "source": [
    "if 'formation' in dep_var.name:\n",
    "    preds_formation_energy_ev_natom = preds.copy()\n",
    "elif 'bandgap' in dep_var.name:\n",
    "    preds_bandgap_energy_ev = preds.copy()"
   ]
  },
  {
   "cell_type": "code",
   "execution_count": null,
   "metadata": {},
   "outputs": [],
   "source": []
  },
  {
   "cell_type": "code",
   "execution_count": 134,
   "metadata": {},
   "outputs": [
    {
     "data": {
      "text/plain": [
       "Index(['spacegroup', 'number_of_total_atoms', 'percent_atom_al',\n",
       "       'percent_atom_ga', 'percent_atom_in', 'lattice_vector_1_ang',\n",
       "       'lattice_vector_2_ang', 'lattice_vector_3_ang',\n",
       "       'lattice_angle_alpha_degree', 'lattice_angle_beta_degree',\n",
       "       'lattice_angle_gamma_degree', 'Ga_0', 'Ga_1', 'Ga_2', 'Ga_3', 'Ga_4',\n",
       "       'Ga_5', 'Al_0', 'Al_1', 'Al_2', 'Al_3', 'Al_4', 'Al_5', 'O_0', 'O_1',\n",
       "       'O_2', 'O_3', 'O_4', 'O_5', 'In_0', 'In_1', 'In_2', 'In_3', 'In_4',\n",
       "       'In_5', 'bandgap_energy_ev'],\n",
       "      dtype='object')"
      ]
     },
     "execution_count": 134,
     "metadata": {},
     "output_type": "execute_result"
    }
   ],
   "source": [
    "test.columns"
   ]
  },
  {
   "cell_type": "code",
   "execution_count": null,
   "metadata": {},
   "outputs": [],
   "source": []
  },
  {
   "cell_type": "code",
   "execution_count": 135,
   "metadata": {},
   "outputs": [],
   "source": [
    "submission_df = pd.DataFrame({\n",
    "    'id': test_id,\n",
    "    'formation_energy_ev_natom': preds_formation_energy_ev_natom.reshape(600),\n",
    "    'bandgap_energy_ev': preds_bandgap_energy_ev.reshape(600)\n",
    "})[['id', 'formation_energy_ev_natom', 'bandgap_energy_ev']]"
   ]
  },
  {
   "cell_type": "code",
   "execution_count": 136,
   "metadata": {},
   "outputs": [
    {
     "data": {
      "text/html": [
       "<div>\n",
       "<style scoped>\n",
       "    .dataframe tbody tr th:only-of-type {\n",
       "        vertical-align: middle;\n",
       "    }\n",
       "\n",
       "    .dataframe tbody tr th {\n",
       "        vertical-align: top;\n",
       "    }\n",
       "\n",
       "    .dataframe thead th {\n",
       "        text-align: right;\n",
       "    }\n",
       "</style>\n",
       "<table border=\"1\" class=\"dataframe\">\n",
       "  <thead>\n",
       "    <tr style=\"text-align: right;\">\n",
       "      <th></th>\n",
       "      <th>id</th>\n",
       "      <th>formation_energy_ev_natom</th>\n",
       "      <th>bandgap_energy_ev</th>\n",
       "    </tr>\n",
       "  </thead>\n",
       "  <tbody>\n",
       "    <tr>\n",
       "      <th>0</th>\n",
       "      <td>1</td>\n",
       "      <td>0.172706</td>\n",
       "      <td>1.884877</td>\n",
       "    </tr>\n",
       "    <tr>\n",
       "      <th>1</th>\n",
       "      <td>2</td>\n",
       "      <td>0.074906</td>\n",
       "      <td>3.693928</td>\n",
       "    </tr>\n",
       "    <tr>\n",
       "      <th>2</th>\n",
       "      <td>3</td>\n",
       "      <td>0.185500</td>\n",
       "      <td>3.428403</td>\n",
       "    </tr>\n",
       "    <tr>\n",
       "      <th>3</th>\n",
       "      <td>4</td>\n",
       "      <td>0.044563</td>\n",
       "      <td>2.995854</td>\n",
       "    </tr>\n",
       "    <tr>\n",
       "      <th>4</th>\n",
       "      <td>5</td>\n",
       "      <td>0.147942</td>\n",
       "      <td>1.728915</td>\n",
       "    </tr>\n",
       "  </tbody>\n",
       "</table>\n",
       "</div>"
      ],
      "text/plain": [
       "   id  formation_energy_ev_natom  bandgap_energy_ev\n",
       "0   1                   0.172706           1.884877\n",
       "1   2                   0.074906           3.693928\n",
       "2   3                   0.185500           3.428403\n",
       "3   4                   0.044563           2.995854\n",
       "4   5                   0.147942           1.728915"
      ]
     },
     "execution_count": 136,
     "metadata": {},
     "output_type": "execute_result"
    }
   ],
   "source": [
    "submission_df.head()"
   ]
  },
  {
   "cell_type": "code",
   "execution_count": 137,
   "metadata": {},
   "outputs": [],
   "source": [
    "submission_df.to_csv('../submissions/fastai_subm.csv', index=False)"
   ]
  },
  {
   "cell_type": "code",
   "execution_count": null,
   "metadata": {},
   "outputs": [],
   "source": []
  },
  {
   "cell_type": "code",
   "execution_count": null,
   "metadata": {},
   "outputs": [],
   "source": []
  }
 ],
 "metadata": {
  "kernelspec": {
   "display_name": "Python 3",
   "language": "python",
   "name": "python3"
  },
  "language_info": {
   "codemirror_mode": {
    "name": "ipython",
    "version": 3
   },
   "file_extension": ".py",
   "mimetype": "text/x-python",
   "name": "python",
   "nbconvert_exporter": "python",
   "pygments_lexer": "ipython3",
   "version": "3.6.4"
  }
 },
 "nbformat": 4,
 "nbformat_minor": 2
}
